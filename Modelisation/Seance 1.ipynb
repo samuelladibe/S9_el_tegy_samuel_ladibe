{
 "cells": [
  {
   "cell_type": "code",
   "execution_count": null,
   "metadata": {},
   "outputs": [
    {
     "ename": "",
     "evalue": "",
     "output_type": "error",
     "traceback": [
      "\u001b[1;31mThe Kernel crashed while executing code in the the current cell or a previous cell. Please review the code in the cell(s) to identify a possible cause of the failure. Click <a href='https://aka.ms/vscodeJupyterKernelCrash'>here</a> for more info. View Jupyter <a href='command:jupyter.viewOutput'>log</a> for further details."
     ]
    }
   ],
   "source": [
    "# import tensorflow\n",
    "import pandas as pd\n",
    "import numpy as np\n",
    "import matplotlib as plt"
   ]
  },
  {
   "cell_type": "markdown",
   "metadata": {},
   "source": [
    "## 1. Principal Component Analysis\n",
    "\n",
    "Steps :\n",
    "\n",
    "- data standardisation && normalization : elementray statistics :, mean, standard deviation, min, max, ...\n",
    "\n",
    "Note : bring variables the same scale\n",
    "\n",
    "- covariance maxtrix\n",
    "\n",
    "- Eigen values and explaines variance\n",
    "provde the variance along the first eigen vector ==> helps to read the pertinence of variables in ranks\n",
    "\n",
    "- Projection in a 2D space\n",
    "\n",
    "- decomposition and selection"
   ]
  }
 ],
 "metadata": {
  "kernelspec": {
   "display_name": "venv",
   "language": "python",
   "name": "python3"
  },
  "language_info": {
   "codemirror_mode": {
    "name": "ipython",
    "version": 3
   },
   "file_extension": ".py",
   "mimetype": "text/x-python",
   "name": "python",
   "nbconvert_exporter": "python",
   "pygments_lexer": "ipython3",
   "version": "3.11.2"
  }
 },
 "nbformat": 4,
 "nbformat_minor": 2
}
